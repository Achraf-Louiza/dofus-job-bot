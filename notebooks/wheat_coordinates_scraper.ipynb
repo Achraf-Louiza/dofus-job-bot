{
 "cells": [
  {
   "cell_type": "code",
   "execution_count": 1,
   "id": "d6ed1770",
   "metadata": {},
   "outputs": [],
   "source": [
    "import requests\n",
    "import pandas as pd\n",
    "from tqdm import tqdm"
   ]
  },
  {
   "cell_type": "code",
   "execution_count": 2,
   "id": "c99a8733",
   "metadata": {},
   "outputs": [],
   "source": [
    "def get_data(skip=0):\n",
    "    url = \"https://api.dofusdb.fr/recoltable\"\n",
    "    payload = {'resources[$in][]': 289,\n",
    "           '$skip': skip,\n",
    "           'lang': 'fr'}\n",
    "    response = requests.get(url, params=payload)  \n",
    "    return response.json()"
   ]
  },
  {
   "cell_type": "code",
   "execution_count": 18,
   "id": "c2f95cd3",
   "metadata": {},
   "outputs": [],
   "source": [
    "def parse_response(res):\n",
    "    x = res['data']\n",
    "    X = []\n",
    "    Y = []\n",
    "    Q = []\n",
    "    WM = []\n",
    "    for i in range(len(x)):\n",
    "        p = x[i]['pos']\n",
    "        X.append(p['posX'])\n",
    "        Y.append(p['posY'])\n",
    "        Q.append(sum([x[i]['quantities'][j]['quantity'] if x[i]['quantities'][j]['item']==289 else 0 for j in range(len(x[i]['quantities']))]))\n",
    "        WM.append(p['worldMap'])\n",
    "    df = pd.DataFrame({'quantity': Q, 'x': X, 'y': Y, 'worldMap': WM})\n",
    "    return df"
   ]
  },
  {
   "cell_type": "code",
   "execution_count": 19,
   "id": "d345f0f9",
   "metadata": {},
   "outputs": [],
   "source": [
    "def get_wheat_coordinates():\n",
    "    df = pd.DataFrame()\n",
    "    for skip in tqdm(range(0, 91, 10)):\n",
    "        print(skip)\n",
    "        res = get_data(skip=skip)\n",
    "        dfi = parse_response(res)\n",
    "        df = pd.concat([df, dfi], ignore_index=True)\n",
    "    return df.drop_duplicates()"
   ]
  },
  {
   "cell_type": "code",
   "execution_count": 20,
   "id": "d2bc17cf",
   "metadata": {},
   "outputs": [
    {
     "name": "stderr",
     "output_type": "stream",
     "text": [
      " 10%|████████▎                                                                          | 1/10 [00:00<00:01,  7.46it/s]"
     ]
    },
    {
     "name": "stdout",
     "output_type": "stream",
     "text": [
      "0\n",
      "10\n"
     ]
    },
    {
     "name": "stderr",
     "output_type": "stream",
     "text": [
      " 30%|████████████████████████▉                                                          | 3/10 [00:00<00:01,  6.80it/s]"
     ]
    },
    {
     "name": "stdout",
     "output_type": "stream",
     "text": [
      "20\n",
      "30\n"
     ]
    },
    {
     "name": "stderr",
     "output_type": "stream",
     "text": [
      " 50%|█████████████████████████████████████████▌                                         | 5/10 [00:00<00:00,  6.14it/s]"
     ]
    },
    {
     "name": "stdout",
     "output_type": "stream",
     "text": [
      "40\n"
     ]
    },
    {
     "name": "stderr",
     "output_type": "stream",
     "text": [
      "\r",
      " 60%|█████████████████████████████████████████████████▊                                 | 6/10 [00:00<00:00,  6.31it/s]"
     ]
    },
    {
     "name": "stdout",
     "output_type": "stream",
     "text": [
      "50\n",
      "60\n"
     ]
    },
    {
     "name": "stderr",
     "output_type": "stream",
     "text": [
      " 80%|██████████████████████████████████████████████████████████████████▍                | 8/10 [00:01<00:00,  5.84it/s]"
     ]
    },
    {
     "name": "stdout",
     "output_type": "stream",
     "text": [
      "70\n",
      "80\n"
     ]
    },
    {
     "name": "stderr",
     "output_type": "stream",
     "text": [
      "\r",
      " 90%|██████████████████████████████████████████████████████████████████████████▋        | 9/10 [00:01<00:00,  5.62it/s]"
     ]
    },
    {
     "name": "stdout",
     "output_type": "stream",
     "text": [
      "90\n"
     ]
    },
    {
     "name": "stderr",
     "output_type": "stream",
     "text": [
      "100%|██████████████████████████████████████████████████████████████████████████████████| 10/10 [00:01<00:00,  5.91it/s]\n"
     ]
    }
   ],
   "source": [
    "df = get_wheat_coordinates()"
   ]
  },
  {
   "cell_type": "code",
   "execution_count": 22,
   "id": "ea1c00b7",
   "metadata": {},
   "outputs": [],
   "source": [
    "df.to_csv('coords.csv', index=False, sep=';')"
   ]
  },
  {
   "cell_type": "code",
   "execution_count": null,
   "id": "aee71d56",
   "metadata": {},
   "outputs": [],
   "source": []
  }
 ],
 "metadata": {
  "kernelspec": {
   "display_name": "Python 3 (ipykernel)",
   "language": "python",
   "name": "python3"
  },
  "language_info": {
   "codemirror_mode": {
    "name": "ipython",
    "version": 3
   },
   "file_extension": ".py",
   "mimetype": "text/x-python",
   "name": "python",
   "nbconvert_exporter": "python",
   "pygments_lexer": "ipython3",
   "version": "3.8.15"
  }
 },
 "nbformat": 4,
 "nbformat_minor": 5
}
