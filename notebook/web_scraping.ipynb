{
 "cells": [
  {
   "cell_type": "code",
   "execution_count": 3,
   "id": "410fb292-7249-4f82-981a-94e3596331cf",
   "metadata": {},
   "outputs": [],
   "source": [
    "import os, sys; sys.path.append('..'); from src import config;\n",
    "from src.utils.web_scraper import *"
   ]
  },
  {
   "cell_type": "code",
   "execution_count": null,
   "id": "11cd420a-7b78-4540-81f0-d12c97b22ae0",
   "metadata": {},
   "outputs": [],
   "source": []
  },
  {
   "cell_type": "code",
   "execution_count": null,
   "id": "e8e3cf3e-e82e-4c5d-adc7-2403f7b14eb3",
   "metadata": {},
   "outputs": [],
   "source": []
  }
 ],
 "metadata": {
  "kernelspec": {
   "display_name": "Python 3 (ipykernel)",
   "language": "python",
   "name": "python3"
  },
  "language_info": {
   "codemirror_mode": {
    "name": "ipython",
    "version": 3
   },
   "file_extension": ".py",
   "mimetype": "text/x-python",
   "name": "python",
   "nbconvert_exporter": "python",
   "pygments_lexer": "ipython3",
   "version": "3.9.17"
  }
 },
 "nbformat": 4,
 "nbformat_minor": 5
}
